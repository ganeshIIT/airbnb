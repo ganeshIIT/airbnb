{
  "cells": [
    {
      "cell_type": "markdown",
      "metadata": {
        "colab_type": "text",
        "id": "view-in-github"
      },
      "source": [
        "<a href=\"https://colab.research.google.com/github/ganeshIIT/airbnb/blob/master/airbnb.ipynb\" target=\"_parent\"><img src=\"https://colab.research.google.com/assets/colab-badge.svg\" alt=\"Open In Colab\"/></a>"
      ]
    },
    {
      "cell_type": "code",
      "execution_count": null,
      "metadata": {
        "colab": {
          "base_uri": "https://localhost:8080/"
        },
        "id": "SHjAcLHq9UWH",
        "outputId": "018320b8-f446-4080-9b70-7f63d6a4204c"
      },
      "outputs": [],
      "source": [
        "# !pip install pyodbc -q\n",
        "\n",
        "# !curl https://packages.microsoft.com/keys/microsoft.asc | apt-key add -\n",
        "# !curl https://packages.microsoft.com/config/ubuntu/16.04/prod.list > /etc/apt/sources.list.d/mssql-release.list\n",
        "# !sudo apt-get update\n",
        "# !sudo ACCEPT_EULA=Y apt-get -q -y install msodbcsql17"
      ]
    },
    {
      "cell_type": "code",
      "execution_count": 1,
      "metadata": {
        "id": "KQrkTV4Q8uVZ"
      },
      "outputs": [],
      "source": [
        "import numpy as np\n",
        "import pandas as pd\n",
        "import pyodbc\n",
        "\n",
        "import dataloader"
      ]
    },
    {
      "cell_type": "code",
      "execution_count": 2,
      "metadata": {
        "id": "PfJgznjf8uVb"
      },
      "outputs": [],
      "source": [
        "from datetime import datetime\n",
        "\n",
        "from bs4 import BeautifulSoup\n",
        "from urllib.request import Request, urlopen\n",
        "import re\n",
        "\n",
        "import helper\n",
        "\n",
        "req = Request(\"http://insideairbnb.com/get-the-data/\")\n",
        "html_page = urlopen(req)\n",
        "\n",
        "soup = BeautifulSoup(html_page, \"lxml\")\n",
        "\n",
        "links = []\n",
        "for link in soup.findAll('a'):\n",
        "    links.append(link.get('href'))\n",
        "\n",
        "# print(links)\n"
      ]
    },
    {
      "cell_type": "code",
      "execution_count": 10,
      "metadata": {},
      "outputs": [],
      "source": [
        "# Cleanse functions\n",
        "def cleanselistings(df):\n",
        "    return(df.drop_duplicates(subset = ['id'])\n",
        "        .rename(columns = {'id':'listing_id'})\n",
        "        .assign(listing_id = lambda x: x['listing_id'].astype('object'),\n",
        "                host_id = lambda x: x['host_id'].astype('object'),\n",
        "                #last_scraped = lambda x: pd.to_datetime(x['last_scraped']).dt.normalize(),\n",
        "                host_since = lambda x: pd.to_datetime(x['host_since']).dt.normalize(),\n",
        "                calendar_last_scraped = lambda x: pd.to_datetime(x['calendar_last_scraped']).dt.normalize(),\n",
        "                first_review = lambda x: pd.to_datetime(x['first_review']).dt.normalize(),\n",
        "                last_review = lambda x: pd.to_datetime(x['last_review']).dt.normalize(),\n",
        "                price = lambda x: x['price'].str.replace('$', '').str.replace(',', '').astype('float'),\n",
        "                has_availability = lambda x: x['has_availability'].apply(lambda x: True if x ==  't' else False)\n",
        "                    .astype('bool'),\n",
        "                instant_bookable = lambda x: x['instant_bookable'].apply(lambda x: True if x ==  't' else False)\n",
        "                    .astype('bool'),\n",
        "                host_has_profile_pic = lambda x: x['host_has_profile_pic'].apply(lambda x: True if x ==  't' else False)\n",
        "                    .astype('bool'),\n",
        "                host_identity_verified = lambda x: x['host_identity_verified'].apply(lambda x: True if x ==  't' else False)\n",
        "                    .astype('bool'),\n",
        "                host_is_superhost = lambda x: x['host_is_superhost'].apply(lambda x: True if x ==  't' else False)\n",
        "                    .astype('bool'),\n",
        "                amenities = lambda x: x['amenities'].str.replace('[', '').str.replace('\"', '').str.replace(']', ''),\n",
        "                host_verifications = lambda x: x['host_verifications'].str.replace('[', '').str.replace(\"'\", '').str.replace(']', ''),\n",
        "                \n",
        "        )\n",
        "    )\n",
        "\n",
        "def cleansecalendar(df):\n",
        "    return(df.drop_duplicates()\n",
        "        .assign(listing_id = lambda x: x['listing_id'].astype('object'),\n",
        "                date = lambda x: x['date'].dt.normalize(),\n",
        "                available = lambda x: x['available'].apply(lambda x: True if x ==  't' else False)\n",
        "                    .astype('bool'),    \n",
        "                price = lambda x: x['price'].str.replace('$', '').str.replace(',', '').astype('float'),\n",
        "        )\n",
        "    )\n",
        "    \n",
        "def cleansereviews(df):\n",
        "    return(df.drop_duplicates()\n",
        "        .assign(listing_id = lambda x: x['listing_id'].astype('object'),\n",
        "                date = lambda x: x['date'].dt.normalize(),\n",
        "                reviewer_id = lambda x: x['reviewer_id'].astype('object'),\n",
        "        )\n",
        "    )"
      ]
    },
    {
      "cell_type": "code",
      "execution_count": 3,
      "metadata": {
        "id": "6J478KKS8uVb"
      },
      "outputs": [],
      "source": [
        "def getdetailsfromurl(urltext):\n",
        "    components = urltext.split('/')\n",
        "    country = components[3]\n",
        "    if len(components) == 9:\n",
        "        province = components[4]\n",
        "        city = components[5]\n",
        "    else:\n",
        "        province = components[3]\n",
        "        city = components[3]\n",
        "    return {'country': country, 'province':province, 'city': city}\n",
        "\n",
        "\n",
        "# print(getdetailsfromurl('http://data.insideairbnb.com/new-zealand/2022-09-12/data/listings.csv.gz'))\n",
        "# getdetailsfromurl('http://data.insideairbnb.com/united-states/dc/washington-dc/2022-09-14/data/listings.csv.gz')"
      ]
    },
    {
      "cell_type": "code",
      "execution_count": 4,
      "metadata": {
        "colab": {
          "base_uri": "https://localhost:8080/",
          "height": 424
        },
        "id": "hlT6HJe38uVc",
        "outputId": "6a9ad952-a2d3-4c4c-98c9-1adf6c055d2d"
      },
      "outputs": [
        {
          "data": {
            "text/html": [
              "<div>\n",
              "<style scoped>\n",
              "    .dataframe tbody tr th:only-of-type {\n",
              "        vertical-align: middle;\n",
              "    }\n",
              "\n",
              "    .dataframe tbody tr th {\n",
              "        vertical-align: top;\n",
              "    }\n",
              "\n",
              "    .dataframe thead th {\n",
              "        text-align: right;\n",
              "    }\n",
              "</style>\n",
              "<table border=\"1\" class=\"dataframe\">\n",
              "  <thead>\n",
              "    <tr style=\"text-align: right;\">\n",
              "      <th></th>\n",
              "      <th>city</th>\n",
              "    </tr>\n",
              "  </thead>\n",
              "  <tbody>\n",
              "    <tr>\n",
              "      <th>0</th>\n",
              "      <td>amsterdam</td>\n",
              "    </tr>\n",
              "    <tr>\n",
              "      <th>1</th>\n",
              "      <td>antwerp</td>\n",
              "    </tr>\n",
              "    <tr>\n",
              "      <th>2</th>\n",
              "      <td>asheville</td>\n",
              "    </tr>\n",
              "    <tr>\n",
              "      <th>3</th>\n",
              "      <td>athens</td>\n",
              "    </tr>\n",
              "    <tr>\n",
              "      <th>4</th>\n",
              "      <td>austin</td>\n",
              "    </tr>\n",
              "    <tr>\n",
              "      <th>...</th>\n",
              "      <td>...</td>\n",
              "    </tr>\n",
              "    <tr>\n",
              "      <th>110</th>\n",
              "      <td>winnipeg</td>\n",
              "    </tr>\n",
              "    <tr>\n",
              "      <th>111</th>\n",
              "      <td>zurich</td>\n",
              "    </tr>\n",
              "    <tr>\n",
              "      <th>112</th>\n",
              "      <td>ireland</td>\n",
              "    </tr>\n",
              "    <tr>\n",
              "      <th>113</th>\n",
              "      <td>malta</td>\n",
              "    </tr>\n",
              "    <tr>\n",
              "      <th>114</th>\n",
              "      <td>new-zealand</td>\n",
              "    </tr>\n",
              "  </tbody>\n",
              "</table>\n",
              "<p>115 rows × 1 columns</p>\n",
              "</div>"
            ],
            "text/plain": [
              "            city\n",
              "0      amsterdam\n",
              "1        antwerp\n",
              "2      asheville\n",
              "3         athens\n",
              "4         austin\n",
              "..           ...\n",
              "110     winnipeg\n",
              "111       zurich\n",
              "112      ireland\n",
              "113        malta\n",
              "114  new-zealand\n",
              "\n",
              "[115 rows x 1 columns]"
            ]
          },
          "execution_count": 4,
          "metadata": {},
          "output_type": "execute_result"
        }
      ],
      "source": [
        "data = {}\n",
        "id = 0\n",
        "for link in links:\n",
        "        if link:\n",
        "            if '.csv.gz' in link:\n",
        "                data[id]= getdetailsfromurl(link)\n",
        "                id+=1\n",
        "                \n",
        "data = pd.DataFrame(data).T\n",
        "data['country'].drop_duplicates().to_frame().reset_index().drop('index', axis =1)\n",
        "data['province'].drop_duplicates().to_frame().reset_index().drop('index', axis =1)\n",
        "data['city'].drop_duplicates().to_frame().reset_index().drop('index', axis =1)"
      ]
    },
    {
      "cell_type": "code",
      "execution_count": 5,
      "metadata": {
        "id": "fuyR8nqZ8uVd"
      },
      "outputs": [],
      "source": [
        "def getdatalinks(datasets = ['listings', 'calendar', 'reviews'], \n",
        "                 country = 'united-states', \n",
        "                 province = None, \n",
        "                 city = None):\n",
        "    \n",
        "    url_dict = {name:list() for name in datasets}\n",
        "    for link in links:\n",
        "        if link:\n",
        "            if (not province) and (not city):\n",
        "                for dataset in datasets:\n",
        "                    if f'/{dataset}.csv.gz' in link and f'/{country}/' in link:\n",
        "                        url_dict[dataset].append(link)\n",
        "          \n",
        "            if (province) and (not city):\n",
        "                for dataset in datasets:\n",
        "                    if f'/{dataset}.csv.gz' in link and f'/{country}/{province}/' in link:\n",
        "                        url_dict[dataset].append(link)\n",
        "\n",
        "            if province and city:\n",
        "                for dataset in datasets:\n",
        "                    if f'/{dataset}.csv.gz' in link and f'/{country}/{province}/{city}/' in link:\n",
        "                        url_dict[dataset].append(link)\n",
        "    return(url_dict)"
      ]
    },
    {
      "cell_type": "code",
      "execution_count": 6,
      "metadata": {
        "colab": {
          "base_uri": "https://localhost:8080/"
        },
        "id": "_ImI00g18uVd",
        "outputId": "8714d8b5-b6bf-4b52-d6d9-900ca5db4bb9"
      },
      "outputs": [
        {
          "data": {
            "text/plain": [
              "{'listings': ['http://data.insideairbnb.com/united-states/nc/asheville/2022-09-14/data/listings.csv.gz'],\n",
              " 'calendar': ['http://data.insideairbnb.com/united-states/nc/asheville/2022-09-14/data/calendar.csv.gz'],\n",
              " 'reviews': ['http://data.insideairbnb.com/united-states/nc/asheville/2022-09-14/data/reviews.csv.gz']}"
            ]
          },
          "execution_count": 6,
          "metadata": {},
          "output_type": "execute_result"
        }
      ],
      "source": [
        "country = 'united-states'\n",
        "province = 'nc'\n",
        "city = 'asheville'\n",
        "datasets = ['listings', 'calendar', 'reviews']\n",
        "\n",
        "getdatalinks(datasets = datasets, country = country, province=province, city= city)"
      ]
    },
    {
      "cell_type": "code",
      "execution_count": 7,
      "metadata": {
        "colab": {
          "base_uri": "https://localhost:8080/"
        },
        "id": "R-jh2jDu8uVe",
        "outputId": "14eb9fa0-11de-484c-b060-eedc947bef8a"
      },
      "outputs": [
        {
          "data": {
            "text/plain": [
              "{'listings': ['http://data.insideairbnb.com/united-states/nc/asheville/2022-09-14/data/listings.csv.gz',\n",
              "  'http://data.insideairbnb.com/united-states/tx/austin/2022-09-12/data/listings.csv.gz',\n",
              "  'http://data.insideairbnb.com/united-states/ma/boston/2022-09-15/data/listings.csv.gz',\n",
              "  'http://data.insideairbnb.com/united-states/fl/broward-county/2022-09-21/data/listings.csv.gz',\n",
              "  'http://data.insideairbnb.com/united-states/ma/cambridge/2022-09-22/data/listings.csv.gz',\n",
              "  'http://data.insideairbnb.com/united-states/il/chicago/2022-09-14/data/listings.csv.gz',\n",
              "  'http://data.insideairbnb.com/united-states/nv/clark-county-nv/2022-09-15/data/listings.csv.gz',\n",
              "  'http://data.insideairbnb.com/united-states/oh/columbus/2022-09-21/data/listings.csv.gz',\n",
              "  'http://data.insideairbnb.com/united-states/tx/dallas/2022-09-14/data/listings.csv.gz',\n",
              "  'http://data.insideairbnb.com/united-states/co/denver/2022-09-26/data/listings.csv.gz',\n",
              "  'http://data.insideairbnb.com/united-states/tx/fort-worth/2022-09-11/data/listings.csv.gz',\n",
              "  'http://data.insideairbnb.com/united-states/hi/hawaii/2022-09-12/data/listings.csv.gz',\n",
              "  'http://data.insideairbnb.com/united-states/nj/jersey-city/2022-09-18/data/listings.csv.gz',\n",
              "  'http://data.insideairbnb.com/united-states/ca/los-angeles/2022-09-09/data/listings.csv.gz',\n",
              "  'http://data.insideairbnb.com/united-states/tn/nashville/2022-09-15/data/listings.csv.gz',\n",
              "  'http://data.insideairbnb.com/united-states/la/new-orleans/2022-09-09/data/listings.csv.gz',\n",
              "  'http://data.insideairbnb.com/united-states/ny/new-york-city/2022-09-07/data/listings.csv.gz',\n",
              "  'http://data.insideairbnb.com/united-states/nj/newark/2022-09-28/data/listings.csv.gz',\n",
              "  'http://data.insideairbnb.com/united-states/ca/oakland/2022-09-18/data/listings.csv.gz',\n",
              "  'http://data.insideairbnb.com/united-states/ca/pacific-grove/2022-09-28/data/listings.csv.gz',\n",
              "  'http://data.insideairbnb.com/united-states/or/portland/2022-09-16/data/listings.csv.gz',\n",
              "  'http://data.insideairbnb.com/united-states/ri/rhode-island/2022-09-28/data/listings.csv.gz',\n",
              "  'http://data.insideairbnb.com/united-states/or/salem-or/2022-09-19/data/listings.csv.gz',\n",
              "  'http://data.insideairbnb.com/united-states/ca/san-diego/2022-09-18/data/listings.csv.gz',\n",
              "  'http://data.insideairbnb.com/united-states/ca/san-francisco/2022-09-07/data/listings.csv.gz',\n",
              "  'http://data.insideairbnb.com/united-states/ca/san-mateo-county/2022-09-19/data/listings.csv.gz',\n",
              "  'http://data.insideairbnb.com/united-states/ca/santa-clara-county/2022-09-19/data/listings.csv.gz',\n",
              "  'http://data.insideairbnb.com/united-states/ca/santa-cruz-county/2022-09-28/data/listings.csv.gz',\n",
              "  'http://data.insideairbnb.com/united-states/wa/seattle/2022-09-18/data/listings.csv.gz',\n",
              "  'http://data.insideairbnb.com/united-states/mn/twin-cities-msa/2022-09-16/data/listings.csv.gz',\n",
              "  'http://data.insideairbnb.com/united-states/dc/washington-dc/2022-09-14/data/listings.csv.gz'],\n",
              " 'calendar': ['http://data.insideairbnb.com/united-states/nc/asheville/2022-09-14/data/calendar.csv.gz',\n",
              "  'http://data.insideairbnb.com/united-states/tx/austin/2022-09-12/data/calendar.csv.gz',\n",
              "  'http://data.insideairbnb.com/united-states/ma/boston/2022-09-15/data/calendar.csv.gz',\n",
              "  'http://data.insideairbnb.com/united-states/fl/broward-county/2022-09-21/data/calendar.csv.gz',\n",
              "  'http://data.insideairbnb.com/united-states/ma/cambridge/2022-09-22/data/calendar.csv.gz',\n",
              "  'http://data.insideairbnb.com/united-states/il/chicago/2022-09-14/data/calendar.csv.gz',\n",
              "  'http://data.insideairbnb.com/united-states/nv/clark-county-nv/2022-09-15/data/calendar.csv.gz',\n",
              "  'http://data.insideairbnb.com/united-states/oh/columbus/2022-09-21/data/calendar.csv.gz',\n",
              "  'http://data.insideairbnb.com/united-states/tx/dallas/2022-09-14/data/calendar.csv.gz',\n",
              "  'http://data.insideairbnb.com/united-states/co/denver/2022-09-26/data/calendar.csv.gz',\n",
              "  'http://data.insideairbnb.com/united-states/tx/fort-worth/2022-09-11/data/calendar.csv.gz',\n",
              "  'http://data.insideairbnb.com/united-states/hi/hawaii/2022-09-12/data/calendar.csv.gz',\n",
              "  'http://data.insideairbnb.com/united-states/nj/jersey-city/2022-09-18/data/calendar.csv.gz',\n",
              "  'http://data.insideairbnb.com/united-states/ca/los-angeles/2022-09-09/data/calendar.csv.gz',\n",
              "  'http://data.insideairbnb.com/united-states/tn/nashville/2022-09-15/data/calendar.csv.gz',\n",
              "  'http://data.insideairbnb.com/united-states/la/new-orleans/2022-09-09/data/calendar.csv.gz',\n",
              "  'http://data.insideairbnb.com/united-states/ny/new-york-city/2022-09-07/data/calendar.csv.gz',\n",
              "  'http://data.insideairbnb.com/united-states/nj/newark/2022-09-28/data/calendar.csv.gz',\n",
              "  'http://data.insideairbnb.com/united-states/ca/oakland/2022-09-18/data/calendar.csv.gz',\n",
              "  'http://data.insideairbnb.com/united-states/ca/pacific-grove/2022-09-28/data/calendar.csv.gz',\n",
              "  'http://data.insideairbnb.com/united-states/or/portland/2022-09-16/data/calendar.csv.gz',\n",
              "  'http://data.insideairbnb.com/united-states/ri/rhode-island/2022-09-28/data/calendar.csv.gz',\n",
              "  'http://data.insideairbnb.com/united-states/or/salem-or/2022-09-19/data/calendar.csv.gz',\n",
              "  'http://data.insideairbnb.com/united-states/ca/san-diego/2022-09-18/data/calendar.csv.gz',\n",
              "  'http://data.insideairbnb.com/united-states/ca/san-francisco/2022-09-07/data/calendar.csv.gz',\n",
              "  'http://data.insideairbnb.com/united-states/ca/san-mateo-county/2022-09-19/data/calendar.csv.gz',\n",
              "  'http://data.insideairbnb.com/united-states/ca/santa-clara-county/2022-09-19/data/calendar.csv.gz',\n",
              "  'http://data.insideairbnb.com/united-states/ca/santa-cruz-county/2022-09-28/data/calendar.csv.gz',\n",
              "  'http://data.insideairbnb.com/united-states/wa/seattle/2022-09-18/data/calendar.csv.gz',\n",
              "  'http://data.insideairbnb.com/united-states/mn/twin-cities-msa/2022-09-16/data/calendar.csv.gz',\n",
              "  'http://data.insideairbnb.com/united-states/dc/washington-dc/2022-09-14/data/calendar.csv.gz'],\n",
              " 'reviews': ['http://data.insideairbnb.com/united-states/nc/asheville/2022-09-14/data/reviews.csv.gz',\n",
              "  'http://data.insideairbnb.com/united-states/tx/austin/2022-09-12/data/reviews.csv.gz',\n",
              "  'http://data.insideairbnb.com/united-states/ma/boston/2022-09-15/data/reviews.csv.gz',\n",
              "  'http://data.insideairbnb.com/united-states/fl/broward-county/2022-09-21/data/reviews.csv.gz',\n",
              "  'http://data.insideairbnb.com/united-states/ma/cambridge/2022-09-22/data/reviews.csv.gz',\n",
              "  'http://data.insideairbnb.com/united-states/il/chicago/2022-09-14/data/reviews.csv.gz',\n",
              "  'http://data.insideairbnb.com/united-states/nv/clark-county-nv/2022-09-15/data/reviews.csv.gz',\n",
              "  'http://data.insideairbnb.com/united-states/oh/columbus/2022-09-21/data/reviews.csv.gz',\n",
              "  'http://data.insideairbnb.com/united-states/tx/dallas/2022-09-14/data/reviews.csv.gz',\n",
              "  'http://data.insideairbnb.com/united-states/co/denver/2022-09-26/data/reviews.csv.gz',\n",
              "  'http://data.insideairbnb.com/united-states/tx/fort-worth/2022-09-11/data/reviews.csv.gz',\n",
              "  'http://data.insideairbnb.com/united-states/hi/hawaii/2022-09-12/data/reviews.csv.gz',\n",
              "  'http://data.insideairbnb.com/united-states/nj/jersey-city/2022-09-18/data/reviews.csv.gz',\n",
              "  'http://data.insideairbnb.com/united-states/ca/los-angeles/2022-09-09/data/reviews.csv.gz',\n",
              "  'http://data.insideairbnb.com/united-states/tn/nashville/2022-09-15/data/reviews.csv.gz',\n",
              "  'http://data.insideairbnb.com/united-states/la/new-orleans/2022-09-09/data/reviews.csv.gz',\n",
              "  'http://data.insideairbnb.com/united-states/ny/new-york-city/2022-09-07/data/reviews.csv.gz',\n",
              "  'http://data.insideairbnb.com/united-states/nj/newark/2022-09-28/data/reviews.csv.gz',\n",
              "  'http://data.insideairbnb.com/united-states/ca/oakland/2022-09-18/data/reviews.csv.gz',\n",
              "  'http://data.insideairbnb.com/united-states/ca/pacific-grove/2022-09-28/data/reviews.csv.gz',\n",
              "  'http://data.insideairbnb.com/united-states/or/portland/2022-09-16/data/reviews.csv.gz',\n",
              "  'http://data.insideairbnb.com/united-states/ri/rhode-island/2022-09-28/data/reviews.csv.gz',\n",
              "  'http://data.insideairbnb.com/united-states/or/salem-or/2022-09-19/data/reviews.csv.gz',\n",
              "  'http://data.insideairbnb.com/united-states/ca/san-diego/2022-09-18/data/reviews.csv.gz',\n",
              "  'http://data.insideairbnb.com/united-states/ca/san-francisco/2022-09-07/data/reviews.csv.gz',\n",
              "  'http://data.insideairbnb.com/united-states/ca/san-mateo-county/2022-09-19/data/reviews.csv.gz',\n",
              "  'http://data.insideairbnb.com/united-states/ca/santa-clara-county/2022-09-19/data/reviews.csv.gz',\n",
              "  'http://data.insideairbnb.com/united-states/ca/santa-cruz-county/2022-09-28/data/reviews.csv.gz',\n",
              "  'http://data.insideairbnb.com/united-states/wa/seattle/2022-09-18/data/reviews.csv.gz',\n",
              "  'http://data.insideairbnb.com/united-states/mn/twin-cities-msa/2022-09-16/data/reviews.csv.gz',\n",
              "  'http://data.insideairbnb.com/united-states/dc/washington-dc/2022-09-14/data/reviews.csv.gz']}"
            ]
          },
          "execution_count": 7,
          "metadata": {},
          "output_type": "execute_result"
        }
      ],
      "source": [
        "urls = getdatalinks(datasets = datasets, \n",
        "                    country = country, \n",
        "                    # province=province, \n",
        "                    # city= city\n",
        "                    )\n",
        "urls"
      ]
    },
    {
      "cell_type": "code",
      "execution_count": 8,
      "metadata": {
        "id": "XzO5EP6y8uVe"
      },
      "outputs": [],
      "source": [
        "listing_columns = ['id','country', 'province', 'city', 'listing_url', \n",
        "                #    'scrape_id', \n",
        "                #    'last_scraped', \n",
        "                   'source', 'name',\n",
        "    #    'neighborhood_overview', 'picture_url', \n",
        "       'host_id',\n",
        "    #    'host_url', \n",
        "       'host_name', 'host_since', 'host_location', \n",
        "       #'host_about',\n",
        "       'host_response_time', 'host_response_rate', 'host_acceptance_rate',\n",
        "       'host_is_superhost', \n",
        "    #    'host_thumbnail_url', 'host_picture_url',\n",
        "    #    'host_neighbourhood', \n",
        "       'host_listings_count',\n",
        "       'host_total_listings_count', 'host_verifications',\n",
        "       'host_has_profile_pic', 'host_identity_verified', \n",
        "    #    'neighbourhood',\n",
        "    #    'neighbourhood_cleansed', 'neighbourhood_group_cleansed', \n",
        "       'latitude',\n",
        "       'longitude', 'property_type', 'room_type', 'accommodates', \n",
        "    #    'bathrooms',\n",
        "       'bathrooms_text', 'bedrooms', 'beds', 'amenities', 'price',\n",
        "       'minimum_nights', \n",
        "    #    'calendar_updated', \n",
        "       'has_availability',\n",
        "       'availability_30', 'availability_60', 'availability_90',\n",
        "       'availability_365', 'calendar_last_scraped', 'number_of_reviews',\n",
        "       'number_of_reviews_ltm', 'number_of_reviews_l30d', 'first_review',\n",
        "       'last_review', 'review_scores_rating', 'review_scores_accuracy',\n",
        "       'review_scores_cleanliness', 'review_scores_checkin',\n",
        "       'review_scores_communication', 'review_scores_location',\n",
        "       'review_scores_value', 'license', 'instant_bookable',\n",
        "       'calculated_host_listings_count',\n",
        "       'calculated_host_listings_count_entire_homes',\n",
        "       'calculated_host_listings_count_private_rooms',\n",
        "       'calculated_host_listings_count_shared_rooms', 'reviews_per_month']\n",
        "\n",
        "calendar_columns = ['listing_id', \n",
        "                    'date', \n",
        "                    'available', \n",
        "                    'price', \n",
        "                     #'adjusted_price',\n",
        "                     # 'minimum_nights', 'maximum_nights'\n",
        "                     ]\n",
        "\n",
        "reviews_columns = ['listing_id', \n",
        "                   'date', \n",
        "                   'reviewer_id', \n",
        "                   'reviewer_name', \n",
        "                   'comments']"
      ]
    },
    {
      "cell_type": "code",
      "execution_count": 9,
      "metadata": {
        "colab": {
          "base_uri": "https://localhost:8080/"
        },
        "id": "adihbGA18uVf",
        "outputId": "f8169fa9-9153-46ad-94d7-a100d2fd831f"
      },
      "outputs": [
        {
          "name": "stderr",
          "output_type": "stream",
          "text": [
            "/var/folders/74/ndv7v28d3078l2cq22t43pkc0000gn/T/ipykernel_86005/3799953849.py:7: DtypeWarning: Columns (68) have mixed types. Specify dtype option on import or set low_memory=False.\n",
            "  listings = (pd.read_csv(url)\n"
          ]
        }
      ],
      "source": [
        "all_listings = pd.DataFrame()\n",
        "\n",
        "for url in urls['listings']:\n",
        "    # match = re.search('\\d{4}-\\d{2}-\\d{2}', url)\n",
        "    # print(datetime.strptime(match.group(), '%Y-%m-%d').date())\n",
        "    #print(getdetailsfromurl(url))\n",
        "    listings = (pd.read_csv(url)\n",
        "            .assign(country = getdetailsfromurl(url)['country'],\n",
        "                    province = getdetailsfromurl(url)['province'],\n",
        "                    city = getdetailsfromurl(url)['city'])\n",
        "    )\n",
        "    all_listings = pd.concat([all_listings, listings])\n",
        "all_listings = all_listings[listing_columns]\n",
        "\n"
      ]
    },
    {
      "cell_type": "code",
      "execution_count": null,
      "metadata": {},
      "outputs": [],
      "source": [
        "print(all_listings.shape)\n",
        "all_listings = cleanselistings(all_listings)\n",
        "print(all_listings.shape)"
      ]
    },
    {
      "cell_type": "code",
      "execution_count": 18,
      "metadata": {},
      "outputs": [
        {
          "ename": "Error",
          "evalue": "('01000', \"[01000] [unixODBC][Driver Manager]Can't open lib 'ODBC Driver 17 for SQL Server' : file not found (0) (SQLDriverConnect)\")",
          "output_type": "error",
          "traceback": [
            "\u001b[0;31m---------------------------------------------------------------------------\u001b[0m",
            "\u001b[0;31mError\u001b[0m                                     Traceback (most recent call last)",
            "\u001b[1;32m/Users/ganesh/Documents/GaneshFiles/IITM/Projects/Airbnb/airbnb.ipynb Cell 15\u001b[0m in \u001b[0;36m<cell line: 8>\u001b[0;34m()\u001b[0m\n\u001b[1;32m      <a href='vscode-notebook-cell:/Users/ganesh/Documents/GaneshFiles/IITM/Projects/Airbnb/airbnb.ipynb#X36sZmlsZQ%3D%3D?line=0'>1</a>\u001b[0m custom\u001b[39m=\u001b[39m{\u001b[39m\"\u001b[39m\u001b[39mid\u001b[39m\u001b[39m\"\u001b[39m:\u001b[39m\"\u001b[39m\u001b[39mINT PRIMARY KEY\u001b[39m\u001b[39m\"\u001b[39m, \n\u001b[1;32m      <a href='vscode-notebook-cell:/Users/ganesh/Documents/GaneshFiles/IITM/Projects/Airbnb/airbnb.ipynb#X36sZmlsZQ%3D%3D?line=1'>2</a>\u001b[0m         \u001b[39m\"\u001b[39m\u001b[39mlisting_id\u001b[39m\u001b[39m\"\u001b[39m: \u001b[39m\"\u001b[39m\u001b[39mVARCHAR(24) UNIQUE\u001b[39m\u001b[39m\"\u001b[39m,\n\u001b[1;32m      <a href='vscode-notebook-cell:/Users/ganesh/Documents/GaneshFiles/IITM/Projects/Airbnb/airbnb.ipynb#X36sZmlsZQ%3D%3D?line=2'>3</a>\u001b[0m         \u001b[39m\"\u001b[39m\u001b[39mhost_since\u001b[39m\u001b[39m\"\u001b[39m: \u001b[39m\"\u001b[39m\u001b[39mDATE\u001b[39m\u001b[39m\"\u001b[39m,\n\u001b[0;32m   (...)\u001b[0m\n\u001b[1;32m      <a href='vscode-notebook-cell:/Users/ganesh/Documents/GaneshFiles/IITM/Projects/Airbnb/airbnb.ipynb#X36sZmlsZQ%3D%3D?line=5'>6</a>\u001b[0m         \u001b[39m\"\u001b[39m\u001b[39mlast_review\u001b[39m\u001b[39m\"\u001b[39m: \u001b[39m\"\u001b[39m\u001b[39mDATE\u001b[39m\u001b[39m\"\u001b[39m\n\u001b[1;32m      <a href='vscode-notebook-cell:/Users/ganesh/Documents/GaneshFiles/IITM/Projects/Airbnb/airbnb.ipynb#X36sZmlsZQ%3D%3D?line=6'>7</a>\u001b[0m         }\n\u001b[0;32m----> <a href='vscode-notebook-cell:/Users/ganesh/Documents/GaneshFiles/IITM/Projects/Airbnb/airbnb.ipynb#X36sZmlsZQ%3D%3D?line=7'>8</a>\u001b[0m dataloader\u001b[39m.\u001b[39;49mfull_load(df \u001b[39m=\u001b[39;49m all_listings, tbl \u001b[39m=\u001b[39;49m \u001b[39m\"\u001b[39;49m\u001b[39mlistings\u001b[39;49m\u001b[39m\"\u001b[39;49m, hasindex \u001b[39m=\u001b[39;49m \u001b[39mFalse\u001b[39;49;00m, custom \u001b[39m=\u001b[39;49m custom)\n",
            "File \u001b[0;32m~/Documents/GaneshFiles/IITM/Projects/Airbnb/dataloader.py:21\u001b[0m, in \u001b[0;36mfull_load\u001b[0;34m(df, tbl, hasindex, custom)\u001b[0m\n\u001b[1;32m     15\u001b[0m df \u001b[39m=\u001b[39m (df\u001b[39m.\u001b[39mreset_index()\n\u001b[1;32m     16\u001b[0m         \u001b[39m.\u001b[39mrename(columns \u001b[39m=\u001b[39m {\u001b[39m'\u001b[39m\u001b[39mindex\u001b[39m\u001b[39m'\u001b[39m: \u001b[39m'\u001b[39m\u001b[39mid\u001b[39m\u001b[39m'\u001b[39m})\n\u001b[1;32m     17\u001b[0m         \u001b[39m#.assign(id = lambda x: x['id']+1)\u001b[39;00m\n\u001b[1;32m     18\u001b[0m         \u001b[39m.\u001b[39mpipe(timetoseconds)\n\u001b[1;32m     19\u001b[0m         )\n\u001b[1;32m     20\u001b[0m list_df \u001b[39m=\u001b[39m np\u001b[39m.\u001b[39marray_split(df, \u001b[39mlen\u001b[39m(df)\u001b[39m/\u001b[39m\u001b[39m/\u001b[39m\u001b[39m1000\u001b[39m \u001b[39m+\u001b[39m\u001b[39m1\u001b[39m)\n\u001b[0;32m---> 21\u001b[0m \u001b[39mwith\u001b[39;00m pyodbc\u001b[39m.\u001b[39;49mconnect(helper\u001b[39m.\u001b[39;49mget_connstring()) \u001b[39mas\u001b[39;00m conn:\n\u001b[1;32m     22\u001b[0m     helper\u001b[39m.\u001b[39mto_sqlserver(df \u001b[39m=\u001b[39mlist_df[\u001b[39m0\u001b[39m], name\u001b[39m=\u001b[39mtbl, conn \u001b[39m=\u001b[39m conn, if_exists\u001b[39m=\u001b[39m\u001b[39m\"\u001b[39m\u001b[39mreplace\u001b[39m\u001b[39m\"\u001b[39m, custom\u001b[39m=\u001b[39mcustom, temp\u001b[39m=\u001b[39m\u001b[39mFalse\u001b[39;00m)\n\u001b[1;32m     23\u001b[0m     conn\u001b[39m.\u001b[39mcommit()\n",
            "\u001b[0;31mError\u001b[0m: ('01000', \"[01000] [unixODBC][Driver Manager]Can't open lib 'ODBC Driver 17 for SQL Server' : file not found (0) (SQLDriverConnect)\")"
          ]
        }
      ],
      "source": [
        "custom={\"id\":\"INT PRIMARY KEY\", \n",
        "        \"listing_id\": \"VARCHAR(24) UNIQUE\",\n",
        "        \"host_since\": \"DATE\",\n",
        "        \"calendar_last_scraped\": \"DATE\",\n",
        "        \"first_review\": \"DATE\",\n",
        "        \"last_review\": \"DATE\"\n",
        "        }\n",
        "dataloader.full_load(df = all_listings, tbl = \"listings\", hasindex = False, custom = custom)"
      ]
    },
    {
      "cell_type": "code",
      "execution_count": null,
      "metadata": {},
      "outputs": [],
      "source": [
        "all_calendar = pd.DataFrame()\n",
        "\n",
        "for url in urls['calendar']:\n",
        "    calendar = pd.read_csv(url, parse_dates=['date'])\n",
        "    calendar = calendar.loc[:,calendar_columns].loc[calendar['date'].isin(pd.date_range(start =datetime.now().date(), periods=10, freq='D'))]\n",
        "    all_calendar = pd.concat([all_calendar, calendar])"
      ]
    },
    {
      "cell_type": "code",
      "execution_count": null,
      "metadata": {},
      "outputs": [],
      "source": [
        "print(all_calendar.shape)\n",
        "all_calendar = cleansecalendar(all_calendar)\n",
        "print(all_calendar.shape)"
      ]
    },
    {
      "cell_type": "code",
      "execution_count": null,
      "metadata": {},
      "outputs": [],
      "source": [
        "custom={\"id\":\"INT PRIMARY KEY\",\n",
        "        \"date\": \"DATE\"\n",
        "        }\n",
        "dataloader.full_load(df = all_calendar, tbl = \"calendar\", hasindex = False, custom = custom)"
      ]
    },
    {
      "cell_type": "code",
      "execution_count": null,
      "metadata": {},
      "outputs": [],
      "source": [
        "all_reviews = pd.DataFrame()\n",
        "\n",
        "for url in urls['reviews']:\n",
        "    reviews =pd.read_csv(url, parse_dates=['date'])\n",
        "    reviews = reviews.sort_values(by = 'date', ascending=False).groupby('listing_id').head(10)\n",
        "    all_reviews = pd.concat([all_reviews, reviews])\n",
        "all_reviews = all_reviews[reviews_columns]"
      ]
    },
    {
      "cell_type": "code",
      "execution_count": null,
      "metadata": {},
      "outputs": [],
      "source": [
        "print(all_reviews.shape)\n",
        "all_reviews = cleansereviews(all_reviews)\n",
        "print(all_reviews.shape)"
      ]
    },
    {
      "cell_type": "code",
      "execution_count": null,
      "metadata": {},
      "outputs": [],
      "source": [
        "custom={\"id\":\"INT PRIMARY KEY\",\n",
        "        \"date\": \"date\"\n",
        "        }\n",
        "dataloader.full_load(df = all_reviews, tbl = \"reviews\", hasindex = False, custom = custom)"
      ]
    },
    {
      "cell_type": "code",
      "execution_count": 28,
      "metadata": {
        "id": "ojNQmpAPYlZ0"
      },
      "outputs": [],
      "source": [
        "# all_listings = pd.DataFrame()\n",
        "\n",
        "# for url in urls['listings']:\n",
        "#     # match = re.search('\\d{4}-\\d{2}-\\d{2}', url)\n",
        "#     # print(datetime.strptime(match.group(), '%Y-%m-%d').date())\n",
        "#     #print(getdetailsfromurl(url))\n",
        "#     listings = (pd.read_csv(url)\n",
        "#             .assign(country = getdetailsfromurl(url)['country'],\n",
        "#                     province = getdetailsfromurl(url)['province'],\n",
        "#                     city = getdetailsfromurl(url)['city'])\n",
        "#     )\n",
        "#     all_listings = pd.concat([all_listings, listings])\n",
        "# all_listings = all_listings[listing_columns]"
      ]
    }
  ],
  "metadata": {
    "colab": {
      "include_colab_link": true,
      "provenance": []
    },
    "kernelspec": {
      "display_name": "Python 3.9.7 ('base')",
      "language": "python",
      "name": "python3"
    },
    "language_info": {
      "codemirror_mode": {
        "name": "ipython",
        "version": 3
      },
      "file_extension": ".py",
      "mimetype": "text/x-python",
      "name": "python",
      "nbconvert_exporter": "python",
      "pygments_lexer": "ipython3",
      "version": "3.9.13"
    },
    "orig_nbformat": 4,
    "vscode": {
      "interpreter": {
        "hash": "f5f9ce87e5d99c372aa2ad0f2a3d783c3b3be9160c15b17ecbf65bec0d9febe9"
      }
    }
  },
  "nbformat": 4,
  "nbformat_minor": 0
}
