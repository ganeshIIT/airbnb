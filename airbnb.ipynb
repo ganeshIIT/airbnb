{
  "cells": [
    {
      "cell_type": "markdown",
      "metadata": {
        "id": "view-in-github",
        "colab_type": "text"
      },
      "source": [
        "<a href=\"https://colab.research.google.com/github/ganeshIIT/airbnb/blob/master/airbnb.ipynb\" target=\"_parent\"><img src=\"https://colab.research.google.com/assets/colab-badge.svg\" alt=\"Open In Colab\"/></a>"
      ]
    },
    {
      "cell_type": "code",
      "source": [
        "!pip install pyodbc -q\n",
        "\n",
        "!curl https://packages.microsoft.com/keys/microsoft.asc | apt-key add -\n",
        "!curl https://packages.microsoft.com/config/ubuntu/16.04/prod.list > /etc/apt/sources.list.d/mssql-release.list\n",
        "!sudo apt-get update\n",
        "!sudo ACCEPT_EULA=Y apt-get -q -y install msodbcsql17"
      ],
      "metadata": {
        "id": "SHjAcLHq9UWH",
        "colab": {
          "base_uri": "https://localhost:8080/"
        },
        "outputId": "018320b8-f446-4080-9b70-7f63d6a4204c"
      },
      "execution_count": 1,
      "outputs": [
        {
          "output_type": "stream",
          "name": "stdout",
          "text": [
            "\u001b[K     |████████████████████████████████| 472 kB 5.2 MB/s \n",
            "\u001b[?25h  % Total    % Received % Xferd  Average Speed   Time    Time     Time  Current\n",
            "                                 Dload  Upload   Total   Spent    Left  Speed\n",
            "100   983  100   983    0     0   4509      0 --:--:-- --:--:-- --:--:--  4509\n",
            "OK\n",
            "  % Total    % Received % Xferd  Average Speed   Time    Time     Time  Current\n",
            "                                 Dload  Upload   Total   Spent    Left  Speed\n",
            "100    79  100    79    0     0    484      0 --:--:-- --:--:-- --:--:--   484\n",
            "Get:1 http://security.ubuntu.com/ubuntu bionic-security InRelease [88.7 kB]\n",
            "Get:2 https://cloud.r-project.org/bin/linux/ubuntu bionic-cran40/ InRelease [3,626 B]\n",
            "Ign:3 https://developer.download.nvidia.com/compute/machine-learning/repos/ubuntu1804/x86_64  InRelease\n",
            "Get:4 https://developer.download.nvidia.com/compute/cuda/repos/ubuntu1804/x86_64  InRelease [1,581 B]\n",
            "Get:5 https://packages.microsoft.com/ubuntu/16.04/prod xenial InRelease [4,010 B]\n",
            "Hit:6 https://developer.download.nvidia.com/compute/machine-learning/repos/ubuntu1804/x86_64  Release\n",
            "Hit:7 http://ppa.launchpad.net/c2d4u.team/c2d4u4.0+/ubuntu bionic InRelease\n",
            "Get:8 https://developer.download.nvidia.com/compute/cuda/repos/ubuntu1804/x86_64  Packages [950 kB]\n",
            "Hit:9 http://archive.ubuntu.com/ubuntu bionic InRelease\n",
            "Get:10 http://archive.ubuntu.com/ubuntu bionic-updates InRelease [88.7 kB]\n",
            "Hit:11 http://ppa.launchpad.net/cran/libgit2/ubuntu bionic InRelease\n",
            "Get:12 https://packages.microsoft.com/ubuntu/16.04/prod xenial/main amd64 Packages [321 kB]\n",
            "Hit:14 http://ppa.launchpad.net/deadsnakes/ppa/ubuntu bionic InRelease\n",
            "Get:15 http://security.ubuntu.com/ubuntu bionic-security/universe amd64 Packages [1,546 kB]\n",
            "Get:16 http://archive.ubuntu.com/ubuntu bionic-backports InRelease [83.3 kB]\n",
            "Hit:17 http://ppa.launchpad.net/graphics-drivers/ppa/ubuntu bionic InRelease\n",
            "Get:18 http://security.ubuntu.com/ubuntu bionic-security/main amd64 Packages [2,992 kB]\n",
            "Get:19 http://archive.ubuntu.com/ubuntu bionic-updates/main amd64 Packages [3,424 kB]\n",
            "Get:20 http://archive.ubuntu.com/ubuntu bionic-updates/universe amd64 Packages [2,324 kB]\n",
            "Fetched 11.8 MB in 3s (4,517 kB/s)\n",
            "Reading package lists... Done\n",
            "Reading package lists...\n",
            "Building dependency tree...\n",
            "Reading state information...\n",
            "The following package was automatically installed and is no longer required:\n",
            "  libnvidia-common-460\n",
            "Use 'sudo apt autoremove' to remove it.\n",
            "The following additional packages will be installed:\n",
            "  libodbc1 odbcinst odbcinst1debian2 unixodbc unixodbc-dev\n",
            "Suggested packages:\n",
            "  unixodbc-bin\n",
            "The following NEW packages will be installed:\n",
            "  msodbcsql17 unixodbc\n",
            "The following packages will be upgraded:\n",
            "  libodbc1 odbcinst odbcinst1debian2 unixodbc-dev\n",
            "4 upgraded, 2 newly installed, 0 to remove and 12 not upgraded.\n",
            "Need to get 1,458 kB of archives.\n",
            "After this operation, 152 kB of additional disk space will be used.\n",
            "Get:1 https://packages.microsoft.com/ubuntu/16.04/prod xenial/main amd64 odbcinst amd64 2.3.7 [12.0 kB]\n",
            "Get:2 https://packages.microsoft.com/ubuntu/16.04/prod xenial/main amd64 unixodbc-dev amd64 2.3.7 [37.1 kB]\n",
            "Get:3 https://packages.microsoft.com/ubuntu/16.04/prod xenial/main amd64 odbcinst1debian2 amd64 2.3.7 [135 kB]\n",
            "Get:4 https://packages.microsoft.com/ubuntu/16.04/prod xenial/main amd64 libodbc1 amd64 2.3.7 [511 kB]\n",
            "Get:5 https://packages.microsoft.com/ubuntu/16.04/prod xenial/main amd64 unixodbc amd64 2.3.7 [19.6 kB]\n",
            "Get:6 https://packages.microsoft.com/ubuntu/16.04/prod xenial/main amd64 msodbcsql17 amd64 17.8.1.1-1 [744 kB]\n",
            "Fetched 1,458 kB in 0s (3,582 kB/s)\n",
            "debconf: unable to initialize frontend: Dialog\n",
            "debconf: (No usable dialog-like program is installed, so the dialog based frontend cannot be used. at /usr/share/perl5/Debconf/FrontEnd/Dialog.pm line 76, <> line 6.)\n",
            "debconf: falling back to frontend: Readline\n",
            "debconf: unable to initialize frontend: Readline\n",
            "debconf: (This frontend requires a controlling tty.)\n",
            "debconf: falling back to frontend: Teletype\n",
            "dpkg-preconfigure: unable to re-open stdin: \n",
            "(Reading database ... 123934 files and directories currently installed.)\n",
            "Preparing to unpack .../0-odbcinst_2.3.7_amd64.deb ...\n",
            "Unpacking odbcinst (2.3.7) over (2.3.4-1.1ubuntu3) ...\n",
            "Preparing to unpack .../1-unixodbc-dev_2.3.7_amd64.deb ...\n",
            "Unpacking unixodbc-dev (2.3.7) over (2.3.4-1.1ubuntu3) ...\n",
            "Preparing to unpack .../2-odbcinst1debian2_2.3.7_amd64.deb ...\n",
            "Unpacking odbcinst1debian2:amd64 (2.3.7) over (2.3.4-1.1ubuntu3) ...\n",
            "Preparing to unpack .../3-libodbc1_2.3.7_amd64.deb ...\n",
            "Unpacking libodbc1:amd64 (2.3.7) over (2.3.4-1.1ubuntu3) ...\n",
            "Selecting previously unselected package unixodbc.\n",
            "Preparing to unpack .../4-unixodbc_2.3.7_amd64.deb ...\n",
            "Unpacking unixodbc (2.3.7) ...\n",
            "Selecting previously unselected package msodbcsql17.\n",
            "Preparing to unpack .../5-msodbcsql17_17.8.1.1-1_amd64.deb ...\n",
            "debconf: unable to initialize frontend: Dialog\n",
            "debconf: (No usable dialog-like program is installed, so the dialog based frontend cannot be used. at /usr/share/perl5/Debconf/FrontEnd/Dialog.pm line 76.)\n",
            "debconf: falling back to frontend: Readline\n",
            "Unpacking msodbcsql17 (17.8.1.1-1) ...\n",
            "Setting up libodbc1:amd64 (2.3.7) ...\n",
            "Setting up odbcinst1debian2:amd64 (2.3.7) ...\n",
            "Setting up odbcinst (2.3.7) ...\n",
            "Setting up unixodbc (2.3.7) ...\n",
            "Setting up unixodbc-dev (2.3.7) ...\n",
            "Setting up msodbcsql17 (17.8.1.1-1) ...\n",
            "Processing triggers for libc-bin (2.27-3ubuntu1.6) ...\n",
            "Processing triggers for man-db (2.8.3-2ubuntu0.1) ...\n"
          ]
        }
      ]
    },
    {
      "cell_type": "code",
      "execution_count": 2,
      "metadata": {
        "id": "KQrkTV4Q8uVZ"
      },
      "outputs": [],
      "source": [
        "import numpy as np\n",
        "import pandas as pd\n",
        "import pyodbc\n",
        "\n",
        "import dataloader"
      ]
    },
    {
      "cell_type": "code",
      "execution_count": 3,
      "metadata": {
        "id": "PfJgznjf8uVb"
      },
      "outputs": [],
      "source": [
        "from datetime import datetime\n",
        "\n",
        "from bs4 import BeautifulSoup\n",
        "from urllib.request import Request, urlopen\n",
        "import re\n",
        "\n",
        "import helper\n",
        "\n",
        "req = Request(\"http://insideairbnb.com/get-the-data/\")\n",
        "html_page = urlopen(req)\n",
        "\n",
        "soup = BeautifulSoup(html_page, \"lxml\")\n",
        "\n",
        "links = []\n",
        "for link in soup.findAll('a'):\n",
        "    links.append(link.get('href'))\n",
        "\n",
        "# print(links)\n"
      ]
    },
    {
      "cell_type": "code",
      "execution_count": 4,
      "metadata": {
        "id": "6J478KKS8uVb"
      },
      "outputs": [],
      "source": [
        "def getdetailsfromurl(urltext):\n",
        "    components = urltext.split('/')\n",
        "    country = components[3]\n",
        "    if len(components) == 9:\n",
        "        province = components[4]\n",
        "        city = components[5]\n",
        "    else:\n",
        "        province = components[3]\n",
        "        city = components[3]\n",
        "    return {'country': country, 'province':province, 'city': city}\n",
        "\n",
        "\n",
        "# print(getdetailsfromurl('http://data.insideairbnb.com/new-zealand/2022-09-12/data/listings.csv.gz'))\n",
        "# getdetailsfromurl('http://data.insideairbnb.com/united-states/dc/washington-dc/2022-09-14/data/listings.csv.gz')"
      ]
    },
    {
      "cell_type": "code",
      "execution_count": 5,
      "metadata": {
        "colab": {
          "base_uri": "https://localhost:8080/",
          "height": 424
        },
        "id": "hlT6HJe38uVc",
        "outputId": "6a9ad952-a2d3-4c4c-98c9-1adf6c055d2d"
      },
      "outputs": [
        {
          "output_type": "execute_result",
          "data": {
            "text/plain": [
              "            city\n",
              "0      amsterdam\n",
              "1        antwerp\n",
              "2      asheville\n",
              "3         athens\n",
              "4         austin\n",
              "..           ...\n",
              "110     winnipeg\n",
              "111       zurich\n",
              "112      ireland\n",
              "113        malta\n",
              "114  new-zealand\n",
              "\n",
              "[115 rows x 1 columns]"
            ],
            "text/html": [
              "\n",
              "  <div id=\"df-8c709fac-40c8-4a3a-8aad-2141b59a091e\">\n",
              "    <div class=\"colab-df-container\">\n",
              "      <div>\n",
              "<style scoped>\n",
              "    .dataframe tbody tr th:only-of-type {\n",
              "        vertical-align: middle;\n",
              "    }\n",
              "\n",
              "    .dataframe tbody tr th {\n",
              "        vertical-align: top;\n",
              "    }\n",
              "\n",
              "    .dataframe thead th {\n",
              "        text-align: right;\n",
              "    }\n",
              "</style>\n",
              "<table border=\"1\" class=\"dataframe\">\n",
              "  <thead>\n",
              "    <tr style=\"text-align: right;\">\n",
              "      <th></th>\n",
              "      <th>city</th>\n",
              "    </tr>\n",
              "  </thead>\n",
              "  <tbody>\n",
              "    <tr>\n",
              "      <th>0</th>\n",
              "      <td>amsterdam</td>\n",
              "    </tr>\n",
              "    <tr>\n",
              "      <th>1</th>\n",
              "      <td>antwerp</td>\n",
              "    </tr>\n",
              "    <tr>\n",
              "      <th>2</th>\n",
              "      <td>asheville</td>\n",
              "    </tr>\n",
              "    <tr>\n",
              "      <th>3</th>\n",
              "      <td>athens</td>\n",
              "    </tr>\n",
              "    <tr>\n",
              "      <th>4</th>\n",
              "      <td>austin</td>\n",
              "    </tr>\n",
              "    <tr>\n",
              "      <th>...</th>\n",
              "      <td>...</td>\n",
              "    </tr>\n",
              "    <tr>\n",
              "      <th>110</th>\n",
              "      <td>winnipeg</td>\n",
              "    </tr>\n",
              "    <tr>\n",
              "      <th>111</th>\n",
              "      <td>zurich</td>\n",
              "    </tr>\n",
              "    <tr>\n",
              "      <th>112</th>\n",
              "      <td>ireland</td>\n",
              "    </tr>\n",
              "    <tr>\n",
              "      <th>113</th>\n",
              "      <td>malta</td>\n",
              "    </tr>\n",
              "    <tr>\n",
              "      <th>114</th>\n",
              "      <td>new-zealand</td>\n",
              "    </tr>\n",
              "  </tbody>\n",
              "</table>\n",
              "<p>115 rows × 1 columns</p>\n",
              "</div>\n",
              "      <button class=\"colab-df-convert\" onclick=\"convertToInteractive('df-8c709fac-40c8-4a3a-8aad-2141b59a091e')\"\n",
              "              title=\"Convert this dataframe to an interactive table.\"\n",
              "              style=\"display:none;\">\n",
              "        \n",
              "  <svg xmlns=\"http://www.w3.org/2000/svg\" height=\"24px\"viewBox=\"0 0 24 24\"\n",
              "       width=\"24px\">\n",
              "    <path d=\"M0 0h24v24H0V0z\" fill=\"none\"/>\n",
              "    <path d=\"M18.56 5.44l.94 2.06.94-2.06 2.06-.94-2.06-.94-.94-2.06-.94 2.06-2.06.94zm-11 1L8.5 8.5l.94-2.06 2.06-.94-2.06-.94L8.5 2.5l-.94 2.06-2.06.94zm10 10l.94 2.06.94-2.06 2.06-.94-2.06-.94-.94-2.06-.94 2.06-2.06.94z\"/><path d=\"M17.41 7.96l-1.37-1.37c-.4-.4-.92-.59-1.43-.59-.52 0-1.04.2-1.43.59L10.3 9.45l-7.72 7.72c-.78.78-.78 2.05 0 2.83L4 21.41c.39.39.9.59 1.41.59.51 0 1.02-.2 1.41-.59l7.78-7.78 2.81-2.81c.8-.78.8-2.07 0-2.86zM5.41 20L4 18.59l7.72-7.72 1.47 1.35L5.41 20z\"/>\n",
              "  </svg>\n",
              "      </button>\n",
              "      \n",
              "  <style>\n",
              "    .colab-df-container {\n",
              "      display:flex;\n",
              "      flex-wrap:wrap;\n",
              "      gap: 12px;\n",
              "    }\n",
              "\n",
              "    .colab-df-convert {\n",
              "      background-color: #E8F0FE;\n",
              "      border: none;\n",
              "      border-radius: 50%;\n",
              "      cursor: pointer;\n",
              "      display: none;\n",
              "      fill: #1967D2;\n",
              "      height: 32px;\n",
              "      padding: 0 0 0 0;\n",
              "      width: 32px;\n",
              "    }\n",
              "\n",
              "    .colab-df-convert:hover {\n",
              "      background-color: #E2EBFA;\n",
              "      box-shadow: 0px 1px 2px rgba(60, 64, 67, 0.3), 0px 1px 3px 1px rgba(60, 64, 67, 0.15);\n",
              "      fill: #174EA6;\n",
              "    }\n",
              "\n",
              "    [theme=dark] .colab-df-convert {\n",
              "      background-color: #3B4455;\n",
              "      fill: #D2E3FC;\n",
              "    }\n",
              "\n",
              "    [theme=dark] .colab-df-convert:hover {\n",
              "      background-color: #434B5C;\n",
              "      box-shadow: 0px 1px 3px 1px rgba(0, 0, 0, 0.15);\n",
              "      filter: drop-shadow(0px 1px 2px rgba(0, 0, 0, 0.3));\n",
              "      fill: #FFFFFF;\n",
              "    }\n",
              "  </style>\n",
              "\n",
              "      <script>\n",
              "        const buttonEl =\n",
              "          document.querySelector('#df-8c709fac-40c8-4a3a-8aad-2141b59a091e button.colab-df-convert');\n",
              "        buttonEl.style.display =\n",
              "          google.colab.kernel.accessAllowed ? 'block' : 'none';\n",
              "\n",
              "        async function convertToInteractive(key) {\n",
              "          const element = document.querySelector('#df-8c709fac-40c8-4a3a-8aad-2141b59a091e');\n",
              "          const dataTable =\n",
              "            await google.colab.kernel.invokeFunction('convertToInteractive',\n",
              "                                                     [key], {});\n",
              "          if (!dataTable) return;\n",
              "\n",
              "          const docLinkHtml = 'Like what you see? Visit the ' +\n",
              "            '<a target=\"_blank\" href=https://colab.research.google.com/notebooks/data_table.ipynb>data table notebook</a>'\n",
              "            + ' to learn more about interactive tables.';\n",
              "          element.innerHTML = '';\n",
              "          dataTable['output_type'] = 'display_data';\n",
              "          await google.colab.output.renderOutput(dataTable, element);\n",
              "          const docLink = document.createElement('div');\n",
              "          docLink.innerHTML = docLinkHtml;\n",
              "          element.appendChild(docLink);\n",
              "        }\n",
              "      </script>\n",
              "    </div>\n",
              "  </div>\n",
              "  "
            ]
          },
          "metadata": {},
          "execution_count": 5
        }
      ],
      "source": [
        "data = {}\n",
        "id = 0\n",
        "for link in links:\n",
        "        if link:\n",
        "            if '.csv.gz' in link:\n",
        "                data[id]= getdetailsfromurl(link)\n",
        "                id+=1\n",
        "                \n",
        "data = pd.DataFrame(data).T\n",
        "data['country'].drop_duplicates().to_frame().reset_index().drop('index', axis =1)\n",
        "data['province'].drop_duplicates().to_frame().reset_index().drop('index', axis =1)\n",
        "data['city'].drop_duplicates().to_frame().reset_index().drop('index', axis =1)"
      ]
    },
    {
      "cell_type": "code",
      "execution_count": 6,
      "metadata": {
        "id": "fuyR8nqZ8uVd"
      },
      "outputs": [],
      "source": [
        "def getdatalinks(datasets = ['listings', 'calendar', 'reviews'], \n",
        "                 country = 'united-states', \n",
        "                 province = None, \n",
        "                 city = None):\n",
        "    \n",
        "    url_dict = {name:list() for name in datasets}\n",
        "    for link in links:\n",
        "        if link:\n",
        "            if (not province) and (not city):\n",
        "                for dataset in datasets:\n",
        "                    if f'/{dataset}.csv.gz' in link and f'/{country}/' in link:\n",
        "                        url_dict[dataset].append(link)\n",
        "          \n",
        "            if (province) and (not city):\n",
        "                for dataset in datasets:\n",
        "                    if f'/{dataset}.csv.gz' in link and f'/{country}/{province}/' in link:\n",
        "                        url_dict[dataset].append(link)\n",
        "\n",
        "            if province and city:\n",
        "                for dataset in datasets:\n",
        "                    if f'/{dataset}.csv.gz' in link and f'/{country}/{province}/{city}/' in link:\n",
        "                        url_dict[dataset].append(link)\n",
        "    return(url_dict)"
      ]
    },
    {
      "cell_type": "code",
      "execution_count": 7,
      "metadata": {
        "colab": {
          "base_uri": "https://localhost:8080/"
        },
        "id": "_ImI00g18uVd",
        "outputId": "8714d8b5-b6bf-4b52-d6d9-900ca5db4bb9"
      },
      "outputs": [
        {
          "output_type": "execute_result",
          "data": {
            "text/plain": [
              "{'listings': ['http://data.insideairbnb.com/united-states/nc/asheville/2022-09-14/data/listings.csv.gz'],\n",
              " 'calendar': ['http://data.insideairbnb.com/united-states/nc/asheville/2022-09-14/data/calendar.csv.gz'],\n",
              " 'reviews': ['http://data.insideairbnb.com/united-states/nc/asheville/2022-09-14/data/reviews.csv.gz']}"
            ]
          },
          "metadata": {},
          "execution_count": 7
        }
      ],
      "source": [
        "country = 'united-states'\n",
        "province = 'nc'\n",
        "city = 'asheville'\n",
        "datasets = ['listings', 'calendar', 'reviews']\n",
        "\n",
        "getdatalinks(datasets = datasets, country = country, province=province, city= city)"
      ]
    },
    {
      "cell_type": "code",
      "execution_count": 8,
      "metadata": {
        "id": "R-jh2jDu8uVe",
        "colab": {
          "base_uri": "https://localhost:8080/"
        },
        "outputId": "14eb9fa0-11de-484c-b060-eedc947bef8a"
      },
      "outputs": [
        {
          "output_type": "execute_result",
          "data": {
            "text/plain": [
              "{'listings': ['http://data.insideairbnb.com/united-states/nc/asheville/2022-09-14/data/listings.csv.gz',\n",
              "  'http://data.insideairbnb.com/united-states/tx/austin/2022-09-12/data/listings.csv.gz',\n",
              "  'http://data.insideairbnb.com/united-states/ma/boston/2022-09-15/data/listings.csv.gz',\n",
              "  'http://data.insideairbnb.com/united-states/fl/broward-county/2022-09-21/data/listings.csv.gz',\n",
              "  'http://data.insideairbnb.com/united-states/ma/cambridge/2022-09-22/data/listings.csv.gz',\n",
              "  'http://data.insideairbnb.com/united-states/il/chicago/2022-09-14/data/listings.csv.gz',\n",
              "  'http://data.insideairbnb.com/united-states/nv/clark-county-nv/2022-09-15/data/listings.csv.gz',\n",
              "  'http://data.insideairbnb.com/united-states/oh/columbus/2022-09-21/data/listings.csv.gz',\n",
              "  'http://data.insideairbnb.com/united-states/tx/dallas/2022-09-14/data/listings.csv.gz',\n",
              "  'http://data.insideairbnb.com/united-states/co/denver/2022-09-26/data/listings.csv.gz',\n",
              "  'http://data.insideairbnb.com/united-states/tx/fort-worth/2022-09-11/data/listings.csv.gz',\n",
              "  'http://data.insideairbnb.com/united-states/hi/hawaii/2022-09-12/data/listings.csv.gz',\n",
              "  'http://data.insideairbnb.com/united-states/nj/jersey-city/2022-09-18/data/listings.csv.gz',\n",
              "  'http://data.insideairbnb.com/united-states/ca/los-angeles/2022-09-09/data/listings.csv.gz',\n",
              "  'http://data.insideairbnb.com/united-states/tn/nashville/2022-09-15/data/listings.csv.gz',\n",
              "  'http://data.insideairbnb.com/united-states/la/new-orleans/2022-09-09/data/listings.csv.gz',\n",
              "  'http://data.insideairbnb.com/united-states/ny/new-york-city/2022-09-07/data/listings.csv.gz',\n",
              "  'http://data.insideairbnb.com/united-states/nj/newark/2022-09-28/data/listings.csv.gz',\n",
              "  'http://data.insideairbnb.com/united-states/ca/oakland/2022-09-18/data/listings.csv.gz',\n",
              "  'http://data.insideairbnb.com/united-states/ca/pacific-grove/2022-09-28/data/listings.csv.gz',\n",
              "  'http://data.insideairbnb.com/united-states/or/portland/2022-09-16/data/listings.csv.gz',\n",
              "  'http://data.insideairbnb.com/united-states/ri/rhode-island/2022-09-28/data/listings.csv.gz',\n",
              "  'http://data.insideairbnb.com/united-states/or/salem-or/2022-09-19/data/listings.csv.gz',\n",
              "  'http://data.insideairbnb.com/united-states/ca/san-diego/2022-09-18/data/listings.csv.gz',\n",
              "  'http://data.insideairbnb.com/united-states/ca/san-francisco/2022-09-07/data/listings.csv.gz',\n",
              "  'http://data.insideairbnb.com/united-states/ca/san-mateo-county/2022-09-19/data/listings.csv.gz',\n",
              "  'http://data.insideairbnb.com/united-states/ca/santa-clara-county/2022-09-19/data/listings.csv.gz',\n",
              "  'http://data.insideairbnb.com/united-states/ca/santa-cruz-county/2022-09-28/data/listings.csv.gz',\n",
              "  'http://data.insideairbnb.com/united-states/wa/seattle/2022-09-18/data/listings.csv.gz',\n",
              "  'http://data.insideairbnb.com/united-states/mn/twin-cities-msa/2022-09-16/data/listings.csv.gz',\n",
              "  'http://data.insideairbnb.com/united-states/dc/washington-dc/2022-09-14/data/listings.csv.gz'],\n",
              " 'calendar': ['http://data.insideairbnb.com/united-states/nc/asheville/2022-09-14/data/calendar.csv.gz',\n",
              "  'http://data.insideairbnb.com/united-states/tx/austin/2022-09-12/data/calendar.csv.gz',\n",
              "  'http://data.insideairbnb.com/united-states/ma/boston/2022-09-15/data/calendar.csv.gz',\n",
              "  'http://data.insideairbnb.com/united-states/fl/broward-county/2022-09-21/data/calendar.csv.gz',\n",
              "  'http://data.insideairbnb.com/united-states/ma/cambridge/2022-09-22/data/calendar.csv.gz',\n",
              "  'http://data.insideairbnb.com/united-states/il/chicago/2022-09-14/data/calendar.csv.gz',\n",
              "  'http://data.insideairbnb.com/united-states/nv/clark-county-nv/2022-09-15/data/calendar.csv.gz',\n",
              "  'http://data.insideairbnb.com/united-states/oh/columbus/2022-09-21/data/calendar.csv.gz',\n",
              "  'http://data.insideairbnb.com/united-states/tx/dallas/2022-09-14/data/calendar.csv.gz',\n",
              "  'http://data.insideairbnb.com/united-states/co/denver/2022-09-26/data/calendar.csv.gz',\n",
              "  'http://data.insideairbnb.com/united-states/tx/fort-worth/2022-09-11/data/calendar.csv.gz',\n",
              "  'http://data.insideairbnb.com/united-states/hi/hawaii/2022-09-12/data/calendar.csv.gz',\n",
              "  'http://data.insideairbnb.com/united-states/nj/jersey-city/2022-09-18/data/calendar.csv.gz',\n",
              "  'http://data.insideairbnb.com/united-states/ca/los-angeles/2022-09-09/data/calendar.csv.gz',\n",
              "  'http://data.insideairbnb.com/united-states/tn/nashville/2022-09-15/data/calendar.csv.gz',\n",
              "  'http://data.insideairbnb.com/united-states/la/new-orleans/2022-09-09/data/calendar.csv.gz',\n",
              "  'http://data.insideairbnb.com/united-states/ny/new-york-city/2022-09-07/data/calendar.csv.gz',\n",
              "  'http://data.insideairbnb.com/united-states/nj/newark/2022-09-28/data/calendar.csv.gz',\n",
              "  'http://data.insideairbnb.com/united-states/ca/oakland/2022-09-18/data/calendar.csv.gz',\n",
              "  'http://data.insideairbnb.com/united-states/ca/pacific-grove/2022-09-28/data/calendar.csv.gz',\n",
              "  'http://data.insideairbnb.com/united-states/or/portland/2022-09-16/data/calendar.csv.gz',\n",
              "  'http://data.insideairbnb.com/united-states/ri/rhode-island/2022-09-28/data/calendar.csv.gz',\n",
              "  'http://data.insideairbnb.com/united-states/or/salem-or/2022-09-19/data/calendar.csv.gz',\n",
              "  'http://data.insideairbnb.com/united-states/ca/san-diego/2022-09-18/data/calendar.csv.gz',\n",
              "  'http://data.insideairbnb.com/united-states/ca/san-francisco/2022-09-07/data/calendar.csv.gz',\n",
              "  'http://data.insideairbnb.com/united-states/ca/san-mateo-county/2022-09-19/data/calendar.csv.gz',\n",
              "  'http://data.insideairbnb.com/united-states/ca/santa-clara-county/2022-09-19/data/calendar.csv.gz',\n",
              "  'http://data.insideairbnb.com/united-states/ca/santa-cruz-county/2022-09-28/data/calendar.csv.gz',\n",
              "  'http://data.insideairbnb.com/united-states/wa/seattle/2022-09-18/data/calendar.csv.gz',\n",
              "  'http://data.insideairbnb.com/united-states/mn/twin-cities-msa/2022-09-16/data/calendar.csv.gz',\n",
              "  'http://data.insideairbnb.com/united-states/dc/washington-dc/2022-09-14/data/calendar.csv.gz'],\n",
              " 'reviews': ['http://data.insideairbnb.com/united-states/nc/asheville/2022-09-14/data/reviews.csv.gz',\n",
              "  'http://data.insideairbnb.com/united-states/tx/austin/2022-09-12/data/reviews.csv.gz',\n",
              "  'http://data.insideairbnb.com/united-states/ma/boston/2022-09-15/data/reviews.csv.gz',\n",
              "  'http://data.insideairbnb.com/united-states/fl/broward-county/2022-09-21/data/reviews.csv.gz',\n",
              "  'http://data.insideairbnb.com/united-states/ma/cambridge/2022-09-22/data/reviews.csv.gz',\n",
              "  'http://data.insideairbnb.com/united-states/il/chicago/2022-09-14/data/reviews.csv.gz',\n",
              "  'http://data.insideairbnb.com/united-states/nv/clark-county-nv/2022-09-15/data/reviews.csv.gz',\n",
              "  'http://data.insideairbnb.com/united-states/oh/columbus/2022-09-21/data/reviews.csv.gz',\n",
              "  'http://data.insideairbnb.com/united-states/tx/dallas/2022-09-14/data/reviews.csv.gz',\n",
              "  'http://data.insideairbnb.com/united-states/co/denver/2022-09-26/data/reviews.csv.gz',\n",
              "  'http://data.insideairbnb.com/united-states/tx/fort-worth/2022-09-11/data/reviews.csv.gz',\n",
              "  'http://data.insideairbnb.com/united-states/hi/hawaii/2022-09-12/data/reviews.csv.gz',\n",
              "  'http://data.insideairbnb.com/united-states/nj/jersey-city/2022-09-18/data/reviews.csv.gz',\n",
              "  'http://data.insideairbnb.com/united-states/ca/los-angeles/2022-09-09/data/reviews.csv.gz',\n",
              "  'http://data.insideairbnb.com/united-states/tn/nashville/2022-09-15/data/reviews.csv.gz',\n",
              "  'http://data.insideairbnb.com/united-states/la/new-orleans/2022-09-09/data/reviews.csv.gz',\n",
              "  'http://data.insideairbnb.com/united-states/ny/new-york-city/2022-09-07/data/reviews.csv.gz',\n",
              "  'http://data.insideairbnb.com/united-states/nj/newark/2022-09-28/data/reviews.csv.gz',\n",
              "  'http://data.insideairbnb.com/united-states/ca/oakland/2022-09-18/data/reviews.csv.gz',\n",
              "  'http://data.insideairbnb.com/united-states/ca/pacific-grove/2022-09-28/data/reviews.csv.gz',\n",
              "  'http://data.insideairbnb.com/united-states/or/portland/2022-09-16/data/reviews.csv.gz',\n",
              "  'http://data.insideairbnb.com/united-states/ri/rhode-island/2022-09-28/data/reviews.csv.gz',\n",
              "  'http://data.insideairbnb.com/united-states/or/salem-or/2022-09-19/data/reviews.csv.gz',\n",
              "  'http://data.insideairbnb.com/united-states/ca/san-diego/2022-09-18/data/reviews.csv.gz',\n",
              "  'http://data.insideairbnb.com/united-states/ca/san-francisco/2022-09-07/data/reviews.csv.gz',\n",
              "  'http://data.insideairbnb.com/united-states/ca/san-mateo-county/2022-09-19/data/reviews.csv.gz',\n",
              "  'http://data.insideairbnb.com/united-states/ca/santa-clara-county/2022-09-19/data/reviews.csv.gz',\n",
              "  'http://data.insideairbnb.com/united-states/ca/santa-cruz-county/2022-09-28/data/reviews.csv.gz',\n",
              "  'http://data.insideairbnb.com/united-states/wa/seattle/2022-09-18/data/reviews.csv.gz',\n",
              "  'http://data.insideairbnb.com/united-states/mn/twin-cities-msa/2022-09-16/data/reviews.csv.gz',\n",
              "  'http://data.insideairbnb.com/united-states/dc/washington-dc/2022-09-14/data/reviews.csv.gz']}"
            ]
          },
          "metadata": {},
          "execution_count": 8
        }
      ],
      "source": [
        "urls = getdatalinks(datasets = datasets, \n",
        "                    country = country, \n",
        "                    # province=province, \n",
        "                    # city= city\n",
        "                    )\n",
        "urls"
      ]
    },
    {
      "cell_type": "code",
      "execution_count": 27,
      "metadata": {
        "id": "XzO5EP6y8uVe"
      },
      "outputs": [],
      "source": [
        "listing_columns = ['id','country', 'province', 'city', 'listing_url', \n",
        "                #    'scrape_id', \n",
        "                #    'last_scraped', \n",
        "                   'source', 'name',\n",
        "    #    'neighborhood_overview', 'picture_url', \n",
        "       'host_id',\n",
        "    #    'host_url', \n",
        "       'host_name', 'host_since', 'host_location', \n",
        "       #'host_about',\n",
        "       'host_response_time', 'host_response_rate', 'host_acceptance_rate',\n",
        "       'host_is_superhost', \n",
        "    #    'host_thumbnail_url', 'host_picture_url',\n",
        "    #    'host_neighbourhood', \n",
        "       'host_listings_count',\n",
        "       'host_total_listings_count', 'host_verifications',\n",
        "       'host_has_profile_pic', 'host_identity_verified', \n",
        "    #    'neighbourhood',\n",
        "    #    'neighbourhood_cleansed', 'neighbourhood_group_cleansed', \n",
        "       'latitude',\n",
        "       'longitude', 'property_type', 'room_type', 'accommodates', \n",
        "    #    'bathrooms',\n",
        "       'bathrooms_text', 'bedrooms', 'beds', 'amenities', 'price',\n",
        "       'minimum_nights', \n",
        "    #    'calendar_updated', \n",
        "       'has_availability',\n",
        "       'availability_30', 'availability_60', 'availability_90',\n",
        "       'availability_365', 'calendar_last_scraped', 'number_of_reviews',\n",
        "       'number_of_reviews_ltm', 'number_of_reviews_l30d', 'first_review',\n",
        "       'last_review', 'review_scores_rating', 'review_scores_accuracy',\n",
        "       'review_scores_cleanliness', 'review_scores_checkin',\n",
        "       'review_scores_communication', 'review_scores_location',\n",
        "       'review_scores_value', 'license', 'instant_bookable',\n",
        "       'calculated_host_listings_count',\n",
        "       'calculated_host_listings_count_entire_homes',\n",
        "       'calculated_host_listings_count_private_rooms',\n",
        "       'calculated_host_listings_count_shared_rooms', 'reviews_per_month']\n",
        "\n",
        "calendar_columns = ['listing_id', \n",
        "                    'date', \n",
        "                    'available', \n",
        "                    'price', \n",
        "                     #'adjusted_price',\n",
        "                     # 'minimum_nights', 'maximum_nights'\n",
        "                     ]\n",
        "\n",
        "reviews_columns = ['listing_id', \n",
        "                   'date', \n",
        "                   'reviewer_id', \n",
        "                   'reviewer_name', \n",
        "                   'comments']"
      ]
    },
    {
      "cell_type": "code",
      "execution_count": 20,
      "metadata": {
        "colab": {
          "base_uri": "https://localhost:8080/"
        },
        "id": "adihbGA18uVf",
        "outputId": "f8169fa9-9153-46ad-94d7-a100d2fd831f"
      },
      "outputs": [
        {
          "output_type": "stream",
          "name": "stderr",
          "text": [
            "/usr/local/lib/python3.7/dist-packages/IPython/core/interactiveshell.py:3326: DtypeWarning: Columns (68) have mixed types.Specify dtype option on import or set low_memory=False.\n",
            "  exec(code_obj, self.user_global_ns, self.user_ns)\n"
          ]
        }
      ],
      "source": [
        "all_listings = pd.DataFrame()\n",
        "all_calendar = pd.DataFrame()\n",
        "all_reviews = pd.DataFrame()\n",
        "\n",
        "for url in urls['listings']:\n",
        "    # match = re.search('\\d{4}-\\d{2}-\\d{2}', url)\n",
        "    # print(datetime.strptime(match.group(), '%Y-%m-%d').date())\n",
        "    #print(getdetailsfromurl(url))\n",
        "    listings = (pd.read_csv(url)\n",
        "            .assign(country = getdetailsfromurl(url)['country'],\n",
        "                    province = getdetailsfromurl(url)['province'],\n",
        "                    city = getdetailsfromurl(url)['city'])\n",
        "    )\n",
        "    all_listings = pd.concat([all_listings, listings])\n",
        "all_listings = all_listings[listing_columns]\n",
        "    \n",
        "for url in urls['calendar']:\n",
        "    calendar = pd.read_csv(url, parse_dates=['date'])\n",
        "    calendar = calendar.loc[:,calendar_columns].loc[calendar['date'].isin(pd.date_range(start =datetime.now().date(), periods=10, freq='D'))]\n",
        "    all_calendar = pd.concat([all_calendar, calendar])\n",
        "    \n",
        "for url in urls['reviews']:\n",
        "    reviews =pd.read_csv(url, parse_dates=['date'])\n",
        "    reviews = reviews.sort_values(by = 'date', ascending=False).groupby('listing_id').head(10)\n",
        "    all_reviews = pd.concat([all_reviews, reviews])\n",
        "all_reviews = all_reviews[reviews_columns]"
      ]
    },
    {
      "cell_type": "code",
      "source": [
        "all_listings = pd.DataFrame()\n",
        "\n",
        "for url in urls['listings']:\n",
        "    # match = re.search('\\d{4}-\\d{2}-\\d{2}', url)\n",
        "    # print(datetime.strptime(match.group(), '%Y-%m-%d').date())\n",
        "    #print(getdetailsfromurl(url))\n",
        "    listings = (pd.read_csv(url)\n",
        "            .assign(country = getdetailsfromurl(url)['country'],\n",
        "                    province = getdetailsfromurl(url)['province'],\n",
        "                    city = getdetailsfromurl(url)['city'])\n",
        "    )\n",
        "    all_listings = pd.concat([all_listings, listings])\n",
        "all_listings = all_listings[listing_columns]"
      ],
      "metadata": {
        "id": "ojNQmpAPYlZ0"
      },
      "execution_count": 28,
      "outputs": []
    },
    {
      "cell_type": "code",
      "source": [
        "print(all_listings.shape)\n",
        "print(all_calendar.shape)\n",
        "print(all_reviews.shape)"
      ],
      "metadata": {
        "colab": {
          "base_uri": "https://localhost:8080/"
        },
        "id": "-vJOYjCAAlFp",
        "outputId": "2b4ec28e-f228-4a44-8aaa-377aba07040b"
      },
      "execution_count": 29,
      "outputs": [
        {
          "output_type": "stream",
          "name": "stdout",
          "text": [
            "(280043, 56)\n",
            "(2760912, 4)\n",
            "(1701818, 5)\n"
          ]
        }
      ]
    },
    {
      "cell_type": "markdown",
      "source": [
        "# Write the tweaking functions and transform the datasets"
      ],
      "metadata": {
        "id": "wcxwyjmR4qYf"
      }
    },
    {
      "cell_type": "code",
      "source": [
        "# all_listings['host_verifications'].str.replace('[', '').str.replace(\"'\", '').str.replace(']', '')"
      ],
      "metadata": {
        "id": "ZYJqWrqppAhb"
      },
      "execution_count": 22,
      "outputs": []
    },
    {
      "cell_type": "code",
      "source": [
        "# Cleanse functions\n",
        "def cleanselistings(df):\n",
        "    return(df.drop_duplicates(subset = ['id'])\n",
        "        .rename(columns = {'id':'listing_id'})\n",
        "        .assign(listing_id = lambda x: x['listing_id'].astype('object'),\n",
        "                host_id = lambda x: x['host_id'].astype('object'),\n",
        "                #last_scraped = lambda x: pd.to_datetime(x['last_scraped']).dt.normalize(),\n",
        "                host_since = lambda x: pd.to_datetime(x['host_since']).dt.normalize(),\n",
        "                calendar_last_scraped = lambda x: pd.to_datetime(x['calendar_last_scraped']).dt.normalize(),\n",
        "                first_review = lambda x: pd.to_datetime(x['first_review']).dt.normalize(),\n",
        "                last_review = lambda x: pd.to_datetime(x['last_review']).dt.normalize(),\n",
        "                price = lambda x: x['price'].str.replace('$', '').str.replace(',', '').astype('float'),\n",
        "                has_availability = lambda x: x['has_availability'].apply(lambda x: True if x ==  't' else False)\n",
        "                    .astype('bool'),\n",
        "                instant_bookable = lambda x: x['instant_bookable'].apply(lambda x: True if x ==  't' else False)\n",
        "                    .astype('bool'),\n",
        "                host_has_profile_pic = lambda x: x['host_has_profile_pic'].apply(lambda x: True if x ==  't' else False)\n",
        "                    .astype('bool'),\n",
        "                host_identity_verified = lambda x: x['host_identity_verified'].apply(lambda x: True if x ==  't' else False)\n",
        "                    .astype('bool'),\n",
        "                host_is_superhost = lambda x: x['host_is_superhost'].apply(lambda x: True if x ==  't' else False)\n",
        "                    .astype('bool'),\n",
        "                amenities = lambda x: x['amenities'].str.replace('[', '').str.replace('\"', '').str.replace(']', ''),\n",
        "                host_verifications = lambda x: x['host_verifications'].str.replace('[', '').str.replace(\"'\", '').str.replace(']', ''),\n",
        "                \n",
        "        )\n",
        "    )\n",
        "\n",
        "def cleansecalendar(df):\n",
        "    return(df.drop_duplicates()\n",
        "        .assign(listing_id = lambda x: x['listing_id'].astype('object'),\n",
        "                date = lambda x: x['date'].dt.normalize(),\n",
        "                available = lambda x: x['available'].apply(lambda x: True if x ==  't' else False)\n",
        "                    .astype('bool'),    \n",
        "                price = lambda x: x['price'].str.replace('$', '').str.replace(',', '').astype('float'),\n",
        "        )\n",
        "    )\n",
        "    \n",
        "def cleansereviews(df):\n",
        "    return(df.drop_duplicates()\n",
        "        .assign(listing_id = lambda x: x['listing_id'].astype('object'),\n",
        "                date = lambda x: x['date'].dt.normalize(),\n",
        "                reviewer_id = lambda x: x['reviewer_id'].astype('object'),\n",
        "        )\n",
        "    )"
      ],
      "metadata": {
        "id": "zwPQMPpz4ogI"
      },
      "execution_count": 30,
      "outputs": []
    },
    {
      "cell_type": "code",
      "source": [
        "all_listings = cleanselistings(all_listings)\n",
        "all_calendar = cleansecalendar(all_calendar)\n",
        "all_reviews = cleansereviews(all_reviews)"
      ],
      "metadata": {
        "id": "jDPJe62EvzOV",
        "outputId": "ba32550d-9812-4943-ed83-ee94861212c4",
        "colab": {
          "base_uri": "https://localhost:8080/"
        }
      },
      "execution_count": 31,
      "outputs": [
        {
          "output_type": "stream",
          "name": "stderr",
          "text": [
            "/usr/local/lib/python3.7/dist-packages/ipykernel_launcher.py:12: FutureWarning: The default value of regex will change from True to False in a future version. In addition, single character regular expressions will *not* be treated as literal strings when regex=True.\n",
            "  if sys.path[0] == '':\n",
            "/usr/local/lib/python3.7/dist-packages/ipykernel_launcher.py:23: FutureWarning: The default value of regex will change from True to False in a future version. In addition, single character regular expressions will *not* be treated as literal strings when regex=True.\n",
            "/usr/local/lib/python3.7/dist-packages/ipykernel_launcher.py:24: FutureWarning: The default value of regex will change from True to False in a future version. In addition, single character regular expressions will *not* be treated as literal strings when regex=True.\n"
          ]
        }
      ]
    },
    {
      "cell_type": "code",
      "source": [
        "print(all_listings.shape)\n",
        "print(all_calendar.shape)\n",
        "print(all_reviews.shape)"
      ],
      "metadata": {
        "id": "kVcqmu8WvzMZ",
        "outputId": "cad395b4-1d14-4453-d015-d33e7afb3cc2",
        "colab": {
          "base_uri": "https://localhost:8080/"
        }
      },
      "execution_count": 32,
      "outputs": [
        {
          "output_type": "stream",
          "name": "stdout",
          "text": [
            "(274790, 56)\n",
            "(2760912, 4)\n",
            "(1701818, 5)\n"
          ]
        }
      ]
    },
    {
      "cell_type": "code",
      "source": [
        "custom={\"id\":\"INT PRIMARY KEY\", \n",
        "        \"listing_id\": \"VARCHAR(24) UNIQUE\",\n",
        "        \"host_since\": \"DATE\",\n",
        "        \"calendar_last_scraped\": \"DATE\",\n",
        "        \"first_review\": \"DATE\",\n",
        "        \"last_review\": \"DATE\"\n",
        "        }\n",
        "dataloader.full_load(df = all_listings, tbl = \"listings\", hasindex = False, custom = custom)"
      ],
      "metadata": {
        "id": "du6OBwHrXd1A",
        "outputId": "4d63cee5-8224-4633-cf72-57e9450a194b",
        "colab": {
          "base_uri": "https://localhost:8080/"
        }
      },
      "execution_count": 33,
      "outputs": [
        {
          "output_type": "stream",
          "name": "stdout",
          "text": [
            "DataFrame full loaded to Table: listings\n"
          ]
        }
      ]
    },
    {
      "cell_type": "code",
      "source": [
        "custom={\"id\":\"INT PRIMARY KEY\",\n",
        "        \"date\": \"DATE\"\n",
        "        }\n",
        "dataloader.full_load(df = all_calendar, tbl = \"calendar\", hasindex = False, custom = custom)"
      ],
      "metadata": {
        "id": "OV973DPWfiT8",
        "outputId": "89b94ddb-4acc-48fb-f01e-345387668030",
        "colab": {
          "base_uri": "https://localhost:8080/"
        }
      },
      "execution_count": 35,
      "outputs": [
        {
          "output_type": "stream",
          "name": "stdout",
          "text": [
            "DataFrame full loaded to Table: calendar\n"
          ]
        }
      ]
    },
    {
      "cell_type": "code",
      "source": [
        "custom={\"id\":\"INT PRIMARY KEY\",\n",
        "        \"date\": \"date\"\n",
        "        }\n",
        "dataloader.full_load(df = all_reviews, tbl = \"reviews\", hasindex = False, custom = custom)"
      ],
      "metadata": {
        "id": "GEcZXaJopQM_",
        "outputId": "4ef85397-f2cb-4e9d-d7c5-3d76a6842563",
        "colab": {
          "base_uri": "https://localhost:8080/"
        }
      },
      "execution_count": 34,
      "outputs": [
        {
          "output_type": "stream",
          "name": "stdout",
          "text": [
            "DataFrame full loaded to Table: reviews\n"
          ]
        }
      ]
    },
    {
      "cell_type": "code",
      "source": [],
      "metadata": {
        "id": "M2U42Vzlxb5Q"
      },
      "execution_count": null,
      "outputs": []
    }
  ],
  "metadata": {
    "kernelspec": {
      "display_name": "Python 3.9.7 ('base')",
      "language": "python",
      "name": "python3"
    },
    "language_info": {
      "codemirror_mode": {
        "name": "ipython",
        "version": 3
      },
      "file_extension": ".py",
      "mimetype": "text/x-python",
      "name": "python",
      "nbconvert_exporter": "python",
      "pygments_lexer": "ipython3",
      "version": "3.9.7"
    },
    "orig_nbformat": 4,
    "vscode": {
      "interpreter": {
        "hash": "f5f9ce87e5d99c372aa2ad0f2a3d783c3b3be9160c15b17ecbf65bec0d9febe9"
      }
    },
    "colab": {
      "provenance": [],
      "include_colab_link": true
    }
  },
  "nbformat": 4,
  "nbformat_minor": 0
}